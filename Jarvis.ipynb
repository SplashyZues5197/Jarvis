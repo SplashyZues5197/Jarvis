{
 "cells": [
  {
   "cell_type": "code",
   "execution_count": null,
   "id": "9d480117",
   "metadata": {},
   "outputs": [],
   "source": [
    "#!pip install pyttsx3\n",
    "#!pip install speechRecognition\n",
    "#!pip install wikipedia\n",
    "#!pip install pyaudio\n"
   ]
  },
  {
   "cell_type": "markdown",
   "id": "7f5cecff",
   "metadata": {},
   "source": [
    "Importing the files below"
   ]
  },
  {
   "cell_type": "code",
   "execution_count": null,
   "id": "6778a68c",
   "metadata": {},
   "outputs": [],
   "source": [
    "import pyttsx3\n",
    "import datetime\n",
    "import speech_recognition as sr\n",
    "import wikipedia\n",
    "import os\n",
    "import webbrowser\n",
    "\n",
    "\n",
    "engine = pyttsx3.init('sapi5')\n",
    "\n",
    "voices= engine.getProperty('voices') #getting details of current voice\n",
    "\n",
    "engine.setProperty('voice', voices[0].id)"
   ]
  },
  {
   "cell_type": "markdown",
   "id": "775f9f60",
   "metadata": {},
   "source": [
    "# Writing out speak function"
   ]
  },
  {
   "cell_type": "code",
   "execution_count": null,
   "id": "be978787",
   "metadata": {},
   "outputs": [],
   "source": [
    "def speak(audio):\n",
    "    engine.say(audio) \n",
    "    engine.runAndWait() #Without this command, speech will not be audible to us."
   ]
  },
  {
   "cell_type": "markdown",
   "id": "b69ee675",
   "metadata": {},
   "source": [
    "# Writing wish me function\n"
   ]
  },
  {
   "cell_type": "code",
   "execution_count": null,
   "id": "ce0e8e5d",
   "metadata": {},
   "outputs": [],
   "source": [
    "def wishme():\n",
    "    hour = int(datetime.datetime.now().hour)\n",
    "    if hour>=0 and hour<12:\n",
    "        speak(\"Good Morning!\")\n",
    "\n",
    "    elif hour>=12 and hour<18:\n",
    "        speak(\"Good Afternoon!\")   \n",
    "\n",
    "    else:\n",
    "        speak(\"Good Evening!\")  \n",
    "\n",
    "    speak(\"I am Jarvis Sir. Please tell me how may I help you\")  "
   ]
  },
  {
   "cell_type": "markdown",
   "id": "70dd726c",
   "metadata": {},
   "source": [
    "# Speech recognition"
   ]
  },
  {
   "cell_type": "code",
   "execution_count": null,
   "id": "ba67d6d1",
   "metadata": {},
   "outputs": [],
   "source": [
    "def takeCommand():\n",
    "    #It takes microphone input from the user and returns string output\n",
    "\n",
    "    r = sr.Recognizer()\n",
    "    with sr.Microphone() as source:\n",
    "        print(\"Listening...\")\n",
    "        r.pause_threshold = 1\n",
    "        audio = r.listen(source)\n",
    "    try:\n",
    "        print(\"Recognizing...\")    \n",
    "        query = r.recognize_google(audio, language='en-in') #Using google for voice recognition.\n",
    "        print(f\"User said: {query}\\n\")  #User query will be printed.\n",
    "\n",
    "    except Exception as e:\n",
    "        # print(e)    \n",
    "        print(\"Say that again please...\")   #Say that again will be printed in case of improper voice \n",
    "        return \"None\" #None string will be returned\n",
    "    return query\n",
    "\n",
    " "
   ]
  },
  {
   "cell_type": "markdown",
   "id": "c6c43dec",
   "metadata": {},
   "source": [
    "# Send email\n"
   ]
  },
  {
   "cell_type": "code",
   "execution_count": null,
   "id": "672c6be9",
   "metadata": {},
   "outputs": [],
   "source": [
    "def sendEmail(to, content):\n",
    "    server = smtplib.SMTP('smtp.gmail.com', 587)\n",
    "    server.ehlo()\n",
    "    server.starttls()\n",
    "    server.login('yougmail', 'password')\n",
    "    server.sendmail('yourgmail', to, content)\n",
    "    server.close()"
   ]
  },
  {
   "cell_type": "code",
   "execution_count": null,
   "id": "0dcc0516",
   "metadata": {},
   "outputs": [],
   "source": [
    "if __name__== \"__main__\" :\n",
    "    wishme()\n",
    "    while True:\n",
    "    # if 1:\n",
    "        query = takeCommand().lower()\n",
    "\n",
    "        # Logic for executing tasks based on query\n",
    "        if 'wikipedia' in query:\n",
    "            speak('Searching Wikipedia...')\n",
    "            query = query.replace(\"wikipedia\", \"\")\n",
    "            results = wikipedia.summary(query, sentences=2)\n",
    "            speak(\"According to Wikipedia\")\n",
    "            print(results)\n",
    "            speak(results)\n",
    "\n",
    "        elif 'open youtube' in query:\n",
    "            webbrowser.open(\"youtube.com\")\n",
    "\n",
    "        elif 'open google' in query:\n",
    "            webbrowser.open(\"google.com\")\n",
    "\n",
    "        elif 'open stackoverflow' in query:\n",
    "            webbrowser.open(\"stackoverflow.com\")   \n",
    "\n",
    "\n",
    "        elif 'play music' in query:\n",
    "            music_dir = 'D:\\\\Non Critical\\\\songs\\\\Favorite Songs2'\n",
    "            songs = os.listdir(music_dir)\n",
    "            print(songs)    \n",
    "            os.startfile(os.path.join(music_dir, songs[0]))\n",
    "\n",
    "        elif 'the time' in query:\n",
    "            strTime = datetime.datetime.now().strftime(\"%H:%M:%S\")    \n",
    "            speak(f\"Sir, the time is {strTime}\")\n",
    "\n",
    "        elif 'open code' in query:\n",
    "            codePath = \"C:\\\\Users\\\\Haris\\\\AppData\\\\Local\\\\Programs\\\\Microsoft VS Code\\\\Code.exe\"\n",
    "            os.startfile(codePath)\n",
    "        elif 'bye' in query:\n",
    "            speak(\"Bye\")\n",
    "            break\n",
    "\n",
    "        elif 'email to anish' in query:\n",
    "            try:\n",
    "                speak(\"What should I say?\")\n",
    "                content = takeCommand()\n",
    "                to = \"ani.bellamkonda@Gmail.com\"    \n",
    "                sendEmail(to, content)\n",
    "                speak(\"Email has been sent!\")\n",
    "            except Exception as e:\n",
    "                print(e)\n",
    "                speak(\"Sorry my friend harry bhai. I am not able to send this email\") \n",
    "        "
   ]
  },
  {
   "cell_type": "code",
   "execution_count": null,
   "id": "82ce1d02",
   "metadata": {},
   "outputs": [],
   "source": []
  }
 ],
 "metadata": {
  "kernelspec": {
   "display_name": "Python 3 (ipykernel)",
   "language": "python",
   "name": "python3"
  },
  "language_info": {
   "codemirror_mode": {
    "name": "ipython",
    "version": 3
   },
   "file_extension": ".py",
   "mimetype": "text/x-python",
   "name": "python",
   "nbconvert_exporter": "python",
   "pygments_lexer": "ipython3",
   "version": "3.9.13"
  }
 },
 "nbformat": 4,
 "nbformat_minor": 5
}
